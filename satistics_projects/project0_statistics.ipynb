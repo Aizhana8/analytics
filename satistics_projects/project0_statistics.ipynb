{
 "cells": [
  {
   "cell_type": "code",
   "execution_count": 56,
   "id": "44b18d9f",
   "metadata": {},
   "outputs": [],
   "source": [
    "import pandas as pd\n",
    "import numpy as np\n",
    "import seaborn as sns\n",
    "%matplotlib inline"
   ]
  },
  {
   "cell_type": "code",
   "execution_count": 57,
   "id": "2b8ad158",
   "metadata": {},
   "outputs": [],
   "source": [
    "mu = 100\n",
    "sigma = 10"
   ]
  },
  {
   "cell_type": "code",
   "execution_count": 58,
   "id": "25156950",
   "metadata": {},
   "outputs": [],
   "source": [
    "#генерация нормального распределения (генеральная совокупность)\n",
    "population = np.round(np.random.normal(mu, sigma, 10000),2)"
   ]
  },
  {
   "cell_type": "code",
   "execution_count": 59,
   "id": "e3225b75",
   "metadata": {},
   "outputs": [
    {
     "name": "stderr",
     "output_type": "stream",
     "text": [
      "C:\\Users\\aizha\\AppData\\Local\\Temp\\ipykernel_16036\\3674342538.py:1: UserWarning: \n",
      "\n",
      "`distplot` is a deprecated function and will be removed in seaborn v0.14.0.\n",
      "\n",
      "Please adapt your code to use either `displot` (a figure-level function with\n",
      "similar flexibility) or `histplot` (an axes-level function for histograms).\n",
      "\n",
      "For a guide to updating your code to use the new functions, please see\n",
      "https://gist.github.com/mwaskom/de44147ed2974457ad6372750bbe5751\n",
      "\n",
      "  sns.distplot(population,kde=False)\n"
     ]
    },
    {
     "data": {
      "text/plain": [
       "<Axes: >"
      ]
     },
     "execution_count": 59,
     "metadata": {},
     "output_type": "execute_result"
    },
    {
     "data": {
      "image/png": "[encoded data removed]",
      "text/plain": [
       "<Figure size 640x480 with 1 Axes>"
      ]
     },
     "metadata": {},
     "output_type": "display_data"
    }
   ],
   "source": [
    "sns.distplot(population,kde=False)"
   ]
  },
  {
   "cell_type": "code",
   "execution_count": 60,
   "id": "4e46c085",
   "metadata": {},
   "outputs": [
    {
     "data": {
      "text/plain": [
       "99.855515"
      ]
     },
     "execution_count": 60,
     "metadata": {},
     "output_type": "execute_result"
    }
   ],
   "source": [
    "population.mean()"
   ]
  },
  {
   "cell_type": "code",
   "execution_count": 61,
   "id": "455c5aae",
   "metadata": {},
   "outputs": [
    {
     "data": {
      "text/plain": [
       "9.954103878038193"
      ]
     },
     "execution_count": 61,
     "metadata": {},
     "output_type": "execute_result"
    }
   ],
   "source": [
    "population.std()"
   ]
  },
  {
   "cell_type": "code",
   "execution_count": 62,
   "id": "232572ec",
   "metadata": {},
   "outputs": [],
   "source": [
    "sample_size = 30 #выборка из 30 элементов"
   ]
  },
  {
   "cell_type": "code",
   "execution_count": 63,
   "id": "43608b49",
   "metadata": {},
   "outputs": [],
   "source": [
    "#выборка без повторений\n",
    "sample = np.random.choice(population, sample_size, False)"
   ]
  },
  {
   "cell_type": "code",
   "execution_count": 64,
   "id": "08f8cb80",
   "metadata": {},
   "outputs": [
    {
     "data": {
      "text/plain": [
       "100.578"
      ]
     },
     "execution_count": 64,
     "metadata": {},
     "output_type": "execute_result"
    }
   ],
   "source": [
    "sample.mean()"
   ]
  },
  {
   "cell_type": "code",
   "execution_count": 65,
   "id": "faaa8ad2",
   "metadata": {},
   "outputs": [],
   "source": [
    "n = 10000\n",
    "sample_means = []\n",
    "for i in range(n):\n",
    "    sample = np.random.choice(population, sample_size, False)\n",
    "    sample_means.append(sample.mean())"
   ]
  },
  {
   "cell_type": "code",
   "execution_count": 66,
   "id": "2754b97b",
   "metadata": {
    "scrolled": false
   },
   "outputs": [
    {
     "name": "stderr",
     "output_type": "stream",
     "text": [
      "C:\\Users\\aizha\\AppData\\Local\\Temp\\ipykernel_16036\\2556188143.py:1: UserWarning: \n",
      "\n",
      "`distplot` is a deprecated function and will be removed in seaborn v0.14.0.\n",
      "\n",
      "Please adapt your code to use either `displot` (a figure-level function with\n",
      "similar flexibility) or `histplot` (an axes-level function for histograms).\n",
      "\n",
      "For a guide to updating your code to use the new functions, please see\n",
      "https://gist.github.com/mwaskom/de44147ed2974457ad6372750bbe5751\n",
      "\n",
      "  sns.distplot(sample_means, kde = False)\n"
     ]
    },
    {
     "data": {
      "text/plain": [
       "<Axes: >"
      ]
     },
     "execution_count": 66,
     "metadata": {},
     "output_type": "execute_result"
    },
    {
     "data": {
      "image/png": "[encoded data removed]",
      "text/plain": [
       "<Figure size 640x480 with 1 Axes>"
      ]
     },
     "metadata": {},
     "output_type": "display_data"
    }
   ],
   "source": [
    "sns.distplot(sample_means, kde = False)"
   ]
  },
  {
   "cell_type": "code",
   "execution_count": 67,
   "id": "38983251",
   "metadata": {},
   "outputs": [
    {
     "data": {
      "text/plain": [
       "99.8568244"
      ]
     },
     "execution_count": 67,
     "metadata": {},
     "output_type": "execute_result"
    }
   ],
   "source": [
    "np.mean(sample_means) #среднее всех выборочных ссредних"
   ]
  },
  {
   "cell_type": "markdown",
   "id": "7fb2359e",
   "metadata": {},
   "source": [
    "Правило трех сигм - 100% в этом диапазоне\n",
    "\n",
    "Правило 1.96 сигм - 95% в этом диапазоне "
   ]
  },
  {
   "cell_type": "markdown",
   "id": "ac639eb7",
   "metadata": {},
   "source": [
    "se = sigma / sqrt(n)"
   ]
  },
  {
   "cell_type": "code",
   "execution_count": 68,
   "id": "935c90ad",
   "metadata": {},
   "outputs": [
    {
     "data": {
      "text/plain": [
       "5.477225575051661"
      ]
     },
     "execution_count": 68,
     "metadata": {},
     "output_type": "execute_result"
    }
   ],
   "source": [
    "sample_size ** 0.5"
   ]
  },
  {
   "cell_type": "code",
   "execution_count": 80,
   "id": "41607d6e",
   "metadata": {},
   "outputs": [
    {
     "data": {
      "text/plain": [
       "1.8173624112503903"
      ]
     },
     "execution_count": 80,
     "metadata": {},
     "output_type": "execute_result"
    }
   ],
   "source": [
    "se = population.std() / sample_size ** 0.5\n",
    "se"
   ]
  },
  {
   "cell_type": "code",
   "execution_count": 78,
   "id": "b1255298",
   "metadata": {},
   "outputs": [
    {
     "data": {
      "text/plain": [
       "1.8561710320286806"
      ]
     },
     "execution_count": 78,
     "metadata": {},
     "output_type": "execute_result"
    }
   ],
   "source": [
    "np.std(sample_means)"
   ]
  },
  {
   "cell_type": "code",
   "execution_count": 79,
   "id": "ffc21c22",
   "metadata": {},
   "outputs": [
    {
     "data": {
      "text/plain": [
       "103.31343160089563"
      ]
     },
     "execution_count": 79,
     "metadata": {},
     "output_type": "execute_result"
    }
   ],
   "source": [
    "population.mean() + 1.96* se"
   ]
  },
  {
   "cell_type": "code",
   "execution_count": 72,
   "id": "4da9200a",
   "metadata": {},
   "outputs": [
    {
     "data": {
      "text/plain": [
       "96.29348467394924"
      ]
     },
     "execution_count": 72,
     "metadata": {},
     "output_type": "execute_result"
    }
   ],
   "source": [
    "population.mean() - 1.96 * se"
   ]
  },
  {
   "cell_type": "code",
   "execution_count": 73,
   "id": "877c6098",
   "metadata": {},
   "outputs": [
    {
     "data": {
      "text/plain": [
       "[96.42, 103.55]"
      ]
     },
     "execution_count": 73,
     "metadata": {},
     "output_type": "execute_result"
    }
   ],
   "source": [
    "[96.42, 103.55]"
   ]
  },
  {
   "cell_type": "markdown",
   "id": "19593a08",
   "metadata": {},
   "source": [
    "**ONE SHOT - ONE OPPORTUNITY**"
   ]
  },
  {
   "cell_type": "code",
   "execution_count": 96,
   "id": "058b6553",
   "metadata": {},
   "outputs": [],
   "source": [
    "sample_real = np.random.choice(population, sample_size, False)"
   ]
  },
  {
   "cell_type": "code",
   "execution_count": 97,
   "id": "9d49ff99",
   "metadata": {},
   "outputs": [
    {
     "data": {
      "text/plain": [
       "array([107.83,  93.03, 101.58,  96.14, 119.13,  88.39,  89.21,  95.14,\n",
       "       111.1 ,  97.45,  96.23, 101.22,  90.72,  91.54, 114.81, 107.74,\n",
       "       102.32, 104.72,  90.22, 100.57,  94.11, 105.69,  92.81, 110.37,\n",
       "       101.5 , 106.8 , 105.73, 115.72,  93.03,  88.13])"
      ]
     },
     "execution_count": 97,
     "metadata": {},
     "output_type": "execute_result"
    }
   ],
   "source": [
    "sample_real"
   ]
  },
  {
   "cell_type": "code",
   "execution_count": 98,
   "id": "57d401a4",
   "metadata": {},
   "outputs": [
    {
     "data": {
      "text/plain": [
       "100.43266666666666"
      ]
     },
     "execution_count": 98,
     "metadata": {},
     "output_type": "execute_result"
    }
   ],
   "source": [
    "sample_real.mean()"
   ]
  },
  {
   "cell_type": "code",
   "execution_count": 99,
   "id": "abcbbb35",
   "metadata": {},
   "outputs": [
    {
     "data": {
      "text/plain": [
       "1.5679655561220676"
      ]
     },
     "execution_count": 99,
     "metadata": {},
     "output_type": "execute_result"
    }
   ],
   "source": [
    "se = sample_real.std()/sample_size**0.5 \n",
    "se"
   ]
  },
  {
   "cell_type": "code",
   "execution_count": 102,
   "id": "f589d221",
   "metadata": {},
   "outputs": [
    {
     "data": {
      "text/plain": [
       "103.50587915666591"
      ]
     },
     "execution_count": 102,
     "metadata": {},
     "output_type": "execute_result"
    }
   ],
   "source": [
    "sample_real.mean() + 1.96*se"
   ]
  },
  {
   "cell_type": "code",
   "execution_count": 103,
   "id": "7910e945",
   "metadata": {},
   "outputs": [
    {
     "data": {
      "text/plain": [
       "97.35945417666741"
      ]
     },
     "execution_count": 103,
     "metadata": {},
     "output_type": "execute_result"
    }
   ],
   "source": [
    "sample_real.mean() - 1.96*se"
   ]
  },
  {
   "cell_type": "markdown",
   "id": "657bf0ec",
   "metadata": {},
   "source": [
    "**se = sd / sqrt(n)\n",
    "в 95% среднее ГС находится между sample_real.mean() + 1.96*se и  sample_real.mean() - 1.96*se**"
   ]
  },
  {
   "cell_type": "code",
   "execution_count": 104,
   "id": "67750de5",
   "metadata": {},
   "outputs": [
    {
     "data": {
      "text/plain": [
       "11.288"
      ]
     },
     "execution_count": 104,
     "metadata": {},
     "output_type": "execute_result"
    }
   ],
   "source": [
    "10+2.576*0.5"
   ]
  },
  {
   "cell_type": "code",
   "execution_count": 106,
   "id": "eda0b83f",
   "metadata": {},
   "outputs": [
    {
     "data": {
      "text/plain": [
       "8.712"
      ]
     },
     "execution_count": 106,
     "metadata": {},
     "output_type": "execute_result"
    }
   ],
   "source": [
    "10-2.576*0.5"
   ]
  },
  {
   "cell_type": "code",
   "execution_count": 107,
   "id": "0378c053",
   "metadata": {},
   "outputs": [
    {
     "data": {
      "text/plain": [
       "19.48"
      ]
     },
     "execution_count": 107,
     "metadata": {},
     "output_type": "execute_result"
    }
   ],
   "source": [
    "18.5+1.96*0.5"
   ]
  },
  {
   "cell_type": "code",
   "execution_count": 108,
   "id": "9fe3bf3a",
   "metadata": {},
   "outputs": [
    {
     "data": {
      "text/plain": [
       "17.52"
      ]
     },
     "execution_count": 108,
     "metadata": {},
     "output_type": "execute_result"
    }
   ],
   "source": [
    "18.5-1.96*0.5"
   ]
  },
  {
   "cell_type": "code",
   "execution_count": 109,
   "id": "d86eeebc",
   "metadata": {},
   "outputs": [
    {
     "data": {
      "text/plain": [
       "-0.3333333333333333"
      ]
     },
     "execution_count": 109,
     "metadata": {},
     "output_type": "execute_result"
    }
   ],
   "source": [
    "(115-118)/9"
   ]
  },
  {
   "cell_type": "code",
   "execution_count": 110,
   "id": "f81d0c8a",
   "metadata": {},
   "outputs": [
    {
     "name": "stdout",
     "output_type": "stream",
     "text": [
      "0.00010120720595940824\n"
     ]
    }
   ],
   "source": [
    "from scipy import stats\n",
    "\n",
    "t_statistic = 4\n",
    "df = 143\n",
    "\n",
    "# Двусторонний p-уровень значимости\n",
    "p_value = 2 * (1 - stats.t.cdf(t_statistic, df))\n",
    "print(p_value)\n",
    "\n"
   ]
  }
 ],
 "metadata": {
  "kernelspec": {
   "display_name": "Python 3 (ipykernel)",
   "language": "python",
   "name": "python3"
  },
  "language_info": {
   "codemirror_mode": {
    "name": "ipython",
    "version": 3
   },
   "file_extension": ".py",
   "mimetype": "text/x-python",
   "name": "python",
   "nbconvert_exporter": "python",
   "pygments_lexer": "ipython3",
   "version": "3.11.5"
  }
 },
 "nbformat": 4,
 "nbformat_minor": 5
}
